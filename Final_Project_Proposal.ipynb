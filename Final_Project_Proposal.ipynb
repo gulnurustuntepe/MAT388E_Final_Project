{
 "cells": [
  {
   "cell_type": "markdown",
   "id": "ed6ec0cf",
   "metadata": {},
   "source": [
    "# Polycystic Ovary Syndrome (PCOS) Diagnosis Using Machine Learning Algorithms\n",
    "\n",
    "## Project Owner\n",
    "\n",
    "Gülnur Üstüntepe, ustuntepe18@itu.edu.tr, 090180348\n",
    "\n",
    "\n",
    "## Dataset\n",
    "\n",
    "For this project, I will work on these datasets:\n",
    "- 1. [Polycystic ovary syndrome (PCOS) Dataset](https://www.kaggle.com/datasets/prasoonkottarathil/polycystic-ovary-syndrome-pcos) *Kottarathil P. (2020), Polycystic ovary syndrome (PCOS), Kaggle Dataset. Retrieved from https://www.kaggle.com/prasoonkottarathil/polycystic-ovary-syndrome-pcos*\n",
    "The dataset consists of 541 rows and 45 columns. It contains patients' age, weight, height, endometrial thickness, waist:hip ratio, specific hormones and so on. The data is collected from 10 different hospital across Kerala, India.\n",
    "- 2. [Polycystic Ovary Ultrasound Images Dataset](https://dataverse.telkomuniversity.ac.id/dataset.xhtmlpersistentId=doi:10.34820/FK2/QVCP6V) *Adiwijaya; NOVIA WISESTY, UNTARI; Widi Astuti, 2021, \"Polycystic Ovary Ultrasound Images Dataset\", https://doi.org/10.34820/FK2/QVCP6V, Telkom University Dataverse, V1. Retrieved from https://dataverse.telkomuniversity.ac.id/dataset.xhtml?persistentId=doi:10.34820/FK2/QVCP6V*\n",
    "This dataset contains ultrasound images of patients with PCOS and normal patients. Each image in the dataset has been categorized into PCOS and Normal classes, which are annotations from specialist doctors.\n",
    "- 3. [PCOS detection using ultrasound images Dataset](https://www.kaggle.com/datasets/anaghachoudhari/pcos-detection-using-ultrasound-images)*PCOS detection using ultrasound images. (n.d.). PCOS Detection Using Ultrasound Images | Kaggle. Retrieved from https://www.kaggle.com/datasets/anaghachoudhari/pcos-detection-using-ultrasound-images*\n",
    "The data folder consist of 'train' and 'test' subfolders containing 2 categories of data 'infected(images of ovaries having PCOS)' and 'notinfected(images of healthy ovaries)'\n",
    "\n",
    "\n",
    "## Description of the Problem\n",
    "\n",
    "A uniform definition of PCOS does not exist, in large part because of its diverse and heterogeneous nature[1]. The general agreement is that PCOS is an ovarian dysfunction syndrome of which the main features are hyperandrogenism and an ultrasound appearance of polycystic ovaries (PCO)[2]. PCOS remains a syndrome and, as such, no single diagnostic criterion (such as hyperandrogenism or PCO) is sufficient for clinical diagnosis. Its clinical manifestations may include: menstrual irregularities, signs of androgen excess, and obesity. Insulin resistance and elevated serum LH levels are also common features in PCOS[3]. \n",
    "\n",
    "PCOS diagnosed by ultrasound and blood tests. The goal of this project is to find which aspect is mostly related to PCOS and to build two machine learning models for PCOS detection and prediction.\n",
    "\n",
    "Most common way to diagnose PCOS is looking if patient meets at least 2 of the following 3 criteria:\n",
    "- irregular periods or infrequent periods(no regular ovulation)\n",
    "- blood tests showing high levels of \"male hormones\", such as testosterone (or sometimes just the signs of excess male hormones, even if the blood test is normal)\n",
    "- scans showing polycystic ovaries[4]\n",
    "Probably these features are highly correlated. I will search relations between them. And also I will check if they are the best criteria for determine whether patient has PCOS or not.\n",
    "\n",
    "\n",
    "## Project Planning\n",
    "\n",
    "\n",
    "### Project Pieces\n",
    "- First Model\n",
    "    - First, I will try to understand and prepare dataset for the next step. Second step is visualize the data and look for patterns in the data. In the third step I will search if there are correlations between features. Then I will split the data to train and test sets. The last step is to try to fit different classifier models(KNN, Logistic Regression, SVM, Decision Tree Regression, Random Forest Regression) and compare them to find which one is the best.\n",
    "- Second Model\n",
    "    - For this model, first thing I need to do is merge second and third datasets. After that, I will again try to understand and prepare the dataset(if needed) by resizing, converting to grayscale, flipping, rotating etc. In the next step, I will try to extract essential features of follicles. My goal is to find the image has PCOS or not. Therefore, I will again use classification models. Lastly, I will compare the models and decide which one is the best.\n",
    "\n",
    "\n",
    "### Reference\n",
    "- [1]: Enrico Carmina, Rogerio A. Lobo, Polycystic Ovary Syndrome (PCOS): Arguably the Most Common Endocrinopathy Is Associated with Significant Morbidity in Women, The Journal of Clinical Endocrinology & Metabolism, Volume 84, Issue 6, 1 June 1999, Pages 1897–1899, https://doi.org/10.1210/jcem.84.6.5803\n",
    "- [2]: D. Dewailly, S. Hieronimus, P. Mirakian, J.-N. Hugues, Polycystic ovary syndrome (PCOS), Annales d'Endocrinologie, Volume 71, Issue 1, 2010, Pages 8-13, ISSN 0003-4266, https://doi.org/10.1016/j.ando.2009.12.003.\n",
    "- [3]: Rotterdam ESHRE/ASRM-Sponsored PCOS consensus workshop group (2004). Revised 2003 consensus on diagnostic criteria and long-term health risks related to polycystic ovary syndrome (PCOS). Human reproduction (Oxford, England), 19(1), 41–47. https://doi.org/10.1093/humrep/deh098\n",
    "- [4]: Polycystic ovary syndrome - Diagnosis. (n.d.). nhs.uk. Retrieved from https://www.nhs.uk/conditions/polycystic-ovary-syndrome-pcos/diagnosis/"
   ]
  },
  {
   "cell_type": "markdown",
   "id": "3ae71da0-77d8-4e30-9b8e-0a9705971e12",
   "metadata": {},
   "source": [
    "## Atabey's notes\n",
    "\n",
    "Nicely done! However, you should probably explain more in the methods section how you are going to build a ML model on images to detect PCOS.\n",
    "\n",
    "A calendar might also be useful to see: what you are going to do and when."
   ]
  },
  {
   "cell_type": "code",
   "execution_count": null,
   "id": "67bed6c1-7fa9-4295-b0a0-29dcfd12a512",
   "metadata": {},
   "outputs": [],
   "source": []
  }
 ],
 "metadata": {
  "kernelspec": {
   "display_name": "Python 3 (ipykernel)",
   "language": "python",
   "name": "python3"
  },
  "language_info": {
   "codemirror_mode": {
    "name": "ipython",
    "version": 3
   },
   "file_extension": ".py",
   "mimetype": "text/x-python",
   "name": "python",
   "nbconvert_exporter": "python",
   "pygments_lexer": "ipython3",
   "version": "3.10.8"
  }
 },
 "nbformat": 4,
 "nbformat_minor": 5
}
